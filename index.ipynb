{
 "cells": [
  {
   "cell_type": "markdown",
   "metadata": {},
   "source": [
    "# Conditional Probability - Lab\n",
    "\n",
    "## Introduction\n",
    "\n",
    "In order to be ready for real world applications of probability, it is important to understand what happens when probabilities are not independent. Very often, the probability of a certain event depends on other events happening! Let's see how this all works in this lab.\n",
    "\n",
    "## Objectives\n",
    "\n",
    "You will be able to:\n",
    "\n",
    "- Understand and explain the conditional probability - $P(A \\cap B) = P(A \\mid B) P(B)$\n",
    "- Use the multiplication rule to find the probability of the intersection of two events\n",
    "- Apply the techniques learned in the lesson to simple problems\n",
    "\n",
    "## Exercise 1\n",
    "A coin is tossed and a single 6-sided dice is rolled. Find the probability of landing on the head side of the coin and rolling a 3 on the dice."
   ]
  },
  {
   "cell_type": "code",
   "execution_count": 4,
   "metadata": {},
   "outputs": [
    {
     "name": "stdout",
     "output_type": "stream",
     "text": [
      "0.08333333333333333\n"
     ]
    }
   ],
   "source": [
    "# Your solution\n",
    "prob_head = 1/2\n",
    "prob_3 = 1/6\n",
    "\n",
    "#the events are independent\n",
    "prob_both = prob_head * prob_3\n",
    "print(prob_both)"
   ]
  },
  {
   "cell_type": "markdown",
   "metadata": {},
   "source": [
    "## Exercise 2\n",
    "\n",
    "\n",
    "After conducting a survey, one of the outcomes was that 8 out of 10 of the surey subjects liked chocolate chip cookies. If three survey subjects are chosen at random **with replacement**, what is the probability that all three like chocolate chip cookies?"
   ]
  },
  {
   "cell_type": "code",
   "execution_count": 5,
   "metadata": {},
   "outputs": [
    {
     "data": {
      "text/plain": [
       "0.5120000000000001"
      ]
     },
     "execution_count": 5,
     "metadata": {},
     "output_type": "execute_result"
    }
   ],
   "source": [
    "#Flatiron Solution\n",
    "# #Probabilities\n",
    "# P_subject1 = P_subject2 = P_subject3 = 8/10\n",
    "    \n",
    "# # Probability that subject 1 and subject 2 and subject 3 like chocolate chip cookies\n",
    "# # Remember (With replacement) makes these trials independent\n",
    "# P_1_2_3 = P_subject1*P_subject2*P_subject3\n",
    "\n",
    "\n",
    "# P_1_2_3\n",
    "\n",
    "\n",
    "prob_chocolate = 8/10\n",
    "\n",
    "prob_chocolate**3"
   ]
  },
  {
   "cell_type": "markdown",
   "metadata": {},
   "source": [
    "## Exercise 3\n",
    "70% of your friends like chocolate flavored ice cream , and 35% like chocolate AND like strawberry flavors.\n",
    "\n",
    "What percent of those who like chocolate also like strawberry?"
   ]
  },
  {
   "cell_type": "code",
   "execution_count": 8,
   "metadata": {},
   "outputs": [
    {
     "name": "stdout",
     "output_type": "stream",
     "text": [
      "0.5\n"
     ]
    }
   ],
   "source": [
    "# P(Strawberry|Chocolate) = P(Chocolate and Strawberry) / P(Chocolate)\n",
    "\n",
    "P_chocolate = (7/10)\n",
    "P_ChocolateandStrawberry = (35/100)\n",
    "P_StrawberrygivenChocolate = P_ChocolateandStrawberry/P_chocolate\n",
    "print(P_StrawberrygivenChocolate)"
   ]
  },
  {
   "cell_type": "markdown",
   "metadata": {},
   "source": [
    "50% of your friends who like chocolate also like strawberry\n",
    "\n",
    "## Exercise 4\n",
    "What is the probability of drawing 2 consecutive aces from a deck of cards. "
   ]
  },
  {
   "cell_type": "code",
   "execution_count": 10,
   "metadata": {},
   "outputs": [
    {
     "data": {
      "text/plain": [
       "0.004524886877828055"
      ]
     },
     "execution_count": 10,
     "metadata": {},
     "output_type": "execute_result"
    }
   ],
   "source": [
    "P_FirstAce = 4/52\n",
    "P_SecondAce = 3/51\n",
    "P_TwoAces = P_FirstAce * P_SecondAce\n",
    "P_TwoAces\n",
    "\n",
    "#Solution:\n",
    "# # Let Event A = drawing the first ace, and Event B = drawing a second ace\n",
    "\n",
    "# #For the first card the chance of drawing an ace is 4 out of 52 (there are 4 aces in a deck of 52 cards):\n",
    "\n",
    "# P_A = 4/52\n",
    "\n",
    "# # But after removing an ace from the deck the probability of the 2nd card drawn is less likely to be a ace (only 3 of the 51 cards left are aces):\n",
    "\n",
    "# P_B_given_A = 3/51\n",
    "\n",
    "# #And so according to the product rule:\n",
    "\n",
    "# P_A_and_B = P_A * P_B_given_A\n",
    "# P_A_and_B"
   ]
  },
  {
   "cell_type": "markdown",
   "metadata": {},
   "source": [
    "## Exercise 5\n",
    "In a manufacturing factory that produces a certain product, there are 100 units of the product, 5 of which are defective. We pick three units from the 100 units at random. \n",
    "\n",
    "What is the probability that none of them are defective?\n",
    "Hint: Use the chain rule here!"
   ]
  },
  {
   "cell_type": "code",
   "execution_count": 13,
   "metadata": {},
   "outputs": [
    {
     "data": {
      "text/plain": [
       "0.8559987631416203"
      ]
     },
     "execution_count": 13,
     "metadata": {},
     "output_type": "execute_result"
    }
   ],
   "source": [
    "first_pick = 95/100\n",
    "second_pick = 94/99\n",
    "third_pick = 93/98\n",
    "prob = first_pick * second_pick * third_pick\n",
    "prob\n",
    "\n",
    "\n",
    "# #Solution\n",
    "# # Let us define Ai as the event that the ith chosen unit is not defective, for i=1,2,3. \n",
    "# # We are interested in P(A1∩A2∩A3). Note that\n",
    "# P_A1=95/100.\n",
    "\n",
    "# #Given that the first chosen item was good, the second item will be chosen from 94 good units and 5 defective units\n",
    "# P_A2_given_A1=94/99\n",
    "\n",
    "# # Given that the first and second chosen items were okay, the third item will be chosen from 93 good units and 5 defective units, thus\n",
    "# P_A3_given_A2_A1=93/98\n",
    "\n",
    "# # Accoring to chain rule\n",
    "# P_A1_A2_A3=P_A1*P_A2_given_A1*P_A3_given_A2_A1\n",
    "\n",
    "# P_A1_A2_A3"
   ]
  },
  {
   "cell_type": "markdown",
   "metadata": {},
   "source": [
    "## Exercise 6\n",
    "\n",
    "Let's consider the example where 2 dice are thrown. Given that **at least one** of the dice has come up on a number higher than 4, what is the probability that the sum is 8?\n",
    "\n",
    "Let $i,j$ be the numbers shown on the dice. The events $A$ and $B$ are described below:\n",
    "\n",
    "* **Event $A$ is when either $i$ or $j$ is 5 or 6** (keep an eye on either - or)\n",
    "* **Event $B$ is when $i + j = 8$**\n",
    "\n",
    "\n",
    "* What is the size of sample space $\\Omega$ ?\n",
    "* What is $P(A \\cap B)$ ?\n",
    "* What is $P(A)$ ?\n",
    "* Use above to calculate $P(B \\mid A)$"
   ]
  },
  {
   "cell_type": "code",
   "execution_count": 16,
   "metadata": {},
   "outputs": [
    {
     "data": {
      "text/plain": [
       "0.19999999999999998"
      ]
     },
     "execution_count": 16,
     "metadata": {},
     "output_type": "execute_result"
    }
   ],
   "source": [
    "# Your solution\n",
    "\n",
    "# solution\n",
    "# $A:= {(i,j) \\in \\Omega \\mid \\text{either $i$ or $j$ is 5 or 6}}$\n",
    "\n",
    "# $B:= {(i,j)\\in \\Omega \\mid i+j = 8}$\n",
    "\n",
    "# In total, there are 36 possible outcomes, so $\\Omega = 36$.\n",
    "\n",
    "# $P(A) = 20/36$ - Event $A$ has 20 possible outcomes out of 36\n",
    "\n",
    "# $P(A \\cap B) = 4/36$ - Event $B$ has 4 possible outcomes out of 36 - (2 and 6, 3 and 5, 6 and 2, 5 and 3)\n",
    "\n",
    "# We want to know what the probability of $B$ is given $A$, so $P(B \\mid A)= \\dfrac{P(B\\cap A)}{P(A)}$. This leads to:\n",
    "\n",
    "\n",
    "p_B_given_A = (4/36)/(20/36)\n",
    "p_B_given_A"
   ]
  },
  {
   "cell_type": "markdown",
   "metadata": {},
   "source": [
    "## Exercise 7\n",
    "\n",
    "Let's consider a credit card example. At a supermarket, customers are selected randomly, the store owner recorded whether costumers owned a Visa card (event A) or an Amex credit card (event B). Some customers own both cards.\n",
    "You can assume that:\n",
    "\n",
    "- $P(A)$ = 0.5\n",
    "- $P(B)$ = 0.4\n",
    "- both $A$ and $B$ = 0.25.\n",
    "\n",
    "\n",
    "With the knowledge we have about conditional probabilities, compute and interpret the following probabilities:\n",
    "\n",
    "- $P(B \\mid A)$\n",
    "- $P(B' \\mid A)$\n",
    "- $P(A \\mid B)$\n",
    "- $P(A' \\mid B)$\n"
   ]
  },
  {
   "cell_type": "code",
   "execution_count": 24,
   "metadata": {},
   "outputs": [
    {
     "name": "stdout",
     "output_type": "stream",
     "text": [
      "0.5\n",
      "0.5\n",
      "0.625\n",
      "0.375\n"
     ]
    }
   ],
   "source": [
    "P_B_given_A = .25/.5\n",
    "print(P_B_given_A)\n",
    "\n",
    "P_Bcomp_given_A = 1-.5\n",
    "print(P_Bcomp_given_A)\n",
    "\n",
    "P_A_given_B = .25/.4\n",
    "print(P_A_given_B)\n",
    "\n",
    "P_Acomp_given_B = (1-P_A_given_B)\n",
    "print(P_Acomp_given_B)\n"
   ]
  },
  {
   "cell_type": "markdown",
   "metadata": {},
   "source": [
    "## Summary \n",
    "\n",
    "In this lab you practiced conditional probability and its theorem with some simple problems. The key takeaway from this lab is to be able to identify random events as dependent or independent and calculating the probability of their occurrence using appropriate methods. Next you'll learn about some more conditional probability axioms, building on the knowledge we have so far. "
   ]
  }
 ],
 "metadata": {
  "kernelspec": {
   "display_name": "Python 3",
   "language": "python",
   "name": "python3"
  },
  "language_info": {
   "codemirror_mode": {
    "name": "ipython",
    "version": 3
   },
   "file_extension": ".py",
   "mimetype": "text/x-python",
   "name": "python",
   "nbconvert_exporter": "python",
   "pygments_lexer": "ipython3",
   "version": "3.6.6"
  },
  "toc": {
   "base_numbering": 1,
   "nav_menu": {},
   "number_sections": true,
   "sideBar": true,
   "skip_h1_title": false,
   "title_cell": "Table of Contents",
   "title_sidebar": "Contents",
   "toc_cell": false,
   "toc_position": {},
   "toc_section_display": true,
   "toc_window_display": false
  }
 },
 "nbformat": 4,
 "nbformat_minor": 2
}
